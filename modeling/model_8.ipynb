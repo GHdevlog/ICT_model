{
 "cells": [
  {
   "cell_type": "code",
   "execution_count": 1,
   "metadata": {},
   "outputs": [
    {
     "name": "stdout",
     "output_type": "stream",
     "text": [
      "[name: \"/device:CPU:0\"\n",
      "device_type: \"CPU\"\n",
      "memory_limit: 268435456\n",
      "locality {\n",
      "}\n",
      "incarnation: 17566480823429616138\n",
      "xla_global_id: -1\n",
      ", name: \"/device:GPU:0\"\n",
      "device_type: \"GPU\"\n",
      "memory_limit: 10063183872\n",
      "locality {\n",
      "  bus_id: 1\n",
      "  links {\n",
      "  }\n",
      "}\n",
      "incarnation: 10458062540444282023\n",
      "physical_device_desc: \"device: 0, name: NVIDIA GeForce RTX 3060, pci bus id: 0000:06:00.0, compute capability: 8.6\"\n",
      "xla_global_id: 416903419\n",
      "]\n"
     ]
    }
   ],
   "source": [
    "import os\n",
    "import tensorflow as tf \n",
    "from tensorflow.python.client import device_lib\n",
    "\n",
    "os.environ[\"CUDA_VISIBLE_DEVICES\"] = \"0\"\n",
    "\n",
    "print(device_lib.list_local_devices())"
   ]
  },
  {
   "cell_type": "code",
   "execution_count": 2,
   "metadata": {},
   "outputs": [],
   "source": [
    "import os\n",
    "import shutil\n",
    "import random\n",
    "\n",
    "# 현재 작업 디렉토리 가져오기\n",
    "current_dir = os.getcwd()\n",
    "\n",
    "model_number = 8\n",
    "dataset_path = '../Dog_face_net_cropped_images'\n",
    "\n",
    "# 데이터셋 경로 설정\n",
    "base_dir = os.path.join(current_dir, dataset_path)\n",
    "model_dir = os.path.join(current_dir, 'model_'+ str(model_number))\n",
    "train_dir = os.path.join(model_dir, 'train')\n",
    "validation_dir = os.path.join(model_dir, 'validation')\n",
    "\n",
    "os.makedirs(model_dir, exist_ok=True)\n",
    "\n",
    "# 폴더 비우기 함수 정의\n",
    "def clear_directory(directory):\n",
    "    if os.path.exists(directory):\n",
    "        shutil.rmtree(directory)\n",
    "    os.makedirs(directory, exist_ok=True)\n",
    "\n",
    "# 폴더 초기화\n",
    "clear_directory(train_dir)\n",
    "clear_directory(validation_dir)\n",
    "\n",
    "# 폴더명을 통해 전체 클래스 리스트 가져오기\n",
    "all_classes = sorted(os.listdir(base_dir))\n",
    "\n",
    "# 원하는 수의 클래스 선택 (예: 10개, 20개)\n",
    "num_classes = 100  # 또는 10으로 변경 가능\n",
    "selected_classes = all_classes[:num_classes]\n",
    "\n",
    "# 각 클래스당 사용할 이미지 수\n",
    "default_num_images_per_class = 100\n",
    "\n",
    "# 각 클래스당 사용할 학습:검증의 비율\n",
    "train_valid_rate = 0.8\n",
    "\n",
    "for class_name in selected_classes:\n",
    "    class_dir = os.path.join(base_dir, class_name)\n",
    "    train_class_dir = os.path.join(train_dir, class_name)\n",
    "    val_class_dir = os.path.join(validation_dir, class_name)\n",
    "    \n",
    "    os.makedirs(train_class_dir, exist_ok=True)\n",
    "    os.makedirs(val_class_dir, exist_ok=True)\n",
    "    \n",
    "    images = os.listdir(class_dir)\n",
    "    num_images_per_class = min(default_num_images_per_class, len(images))\n",
    "    random.shuffle(images)\n",
    "    \n",
    "    train_split = int(train_valid_rate * num_images_per_class)\n",
    "    \n",
    "    train_images = images[:train_split]\n",
    "    val_images = images[train_split:num_images_per_class]\n",
    "    \n",
    "    for image in train_images:\n",
    "        src = os.path.join(class_dir, image)\n",
    "        dst = os.path.join(train_class_dir, image)\n",
    "        shutil.copyfile(src, dst)\n",
    "    \n",
    "    for image in val_images:\n",
    "        src = os.path.join(class_dir, image)\n",
    "        dst = os.path.join(val_class_dir, image)\n",
    "        shutil.copyfile(src, dst)\n"
   ]
  },
  {
   "cell_type": "code",
   "execution_count": 3,
   "metadata": {},
   "outputs": [
    {
     "data": {
      "text/plain": [
       "['0',\n",
       " '1',\n",
       " '100',\n",
       " '1000',\n",
       " '1001',\n",
       " '1002',\n",
       " '1003',\n",
       " '1004',\n",
       " '1005',\n",
       " '1006',\n",
       " '1007',\n",
       " '1008',\n",
       " '1009',\n",
       " '101',\n",
       " '1010',\n",
       " '1011',\n",
       " '1012',\n",
       " '1013',\n",
       " '1014',\n",
       " '1015',\n",
       " '1016',\n",
       " '1017',\n",
       " '1018',\n",
       " '1019',\n",
       " '102',\n",
       " '1020',\n",
       " '1021',\n",
       " '1022',\n",
       " '1023',\n",
       " '1024',\n",
       " '1025',\n",
       " '1026',\n",
       " '1027',\n",
       " '1028',\n",
       " '1029',\n",
       " '103',\n",
       " '1030',\n",
       " '1031',\n",
       " '1032',\n",
       " '1033',\n",
       " '1034',\n",
       " '1035',\n",
       " '1036',\n",
       " '1037',\n",
       " '1038',\n",
       " '1039',\n",
       " '104',\n",
       " '1040',\n",
       " '1041',\n",
       " '1042',\n",
       " '1043',\n",
       " '1044',\n",
       " '1045',\n",
       " '1046',\n",
       " '1047',\n",
       " '1048',\n",
       " '1049',\n",
       " '105',\n",
       " '1050',\n",
       " '1051',\n",
       " '1052',\n",
       " '1053',\n",
       " '1054',\n",
       " '1055',\n",
       " '1056',\n",
       " '1057',\n",
       " '1058',\n",
       " '1059',\n",
       " '106',\n",
       " '1060',\n",
       " '1061',\n",
       " '1062',\n",
       " '1063',\n",
       " '1064',\n",
       " '1065',\n",
       " '1066',\n",
       " '1067',\n",
       " '1068',\n",
       " '1069',\n",
       " '107',\n",
       " '1070',\n",
       " '1071',\n",
       " '1072',\n",
       " '1073',\n",
       " '1074',\n",
       " '1075',\n",
       " '1076',\n",
       " '1077',\n",
       " '1078',\n",
       " '1079',\n",
       " '108',\n",
       " '1080',\n",
       " '1081',\n",
       " '1082',\n",
       " '1083',\n",
       " '1084',\n",
       " '1085',\n",
       " '1086',\n",
       " '1087',\n",
       " '1088']"
      ]
     },
     "execution_count": 3,
     "metadata": {},
     "output_type": "execute_result"
    }
   ],
   "source": [
    "selected_classes"
   ]
  },
  {
   "cell_type": "code",
   "execution_count": 4,
   "metadata": {},
   "outputs": [
    {
     "name": "stdout",
     "output_type": "stream",
     "text": [
      "Found 350 images belonging to 100 classes.\n",
      "Found 125 images belonging to 100 classes.\n"
     ]
    }
   ],
   "source": [
    "import tensorflow as tf\n",
    "from tensorflow.keras.preprocessing.image import ImageDataGenerator\n",
    "\n",
    "# 데이터 증강 설정\n",
    "train_datagen = ImageDataGenerator(rescale=1./255, rotation_range=40, width_shift_range=0.2, height_shift_range=0.2,\n",
    "                                   shear_range=0.2, zoom_range=0.2, horizontal_flip=True, fill_mode='nearest')\n",
    "\n",
    "validation_datagen = ImageDataGenerator(rescale=1./255)\n",
    "\n",
    "# 데이터 로드\n",
    "train_generator = train_datagen.flow_from_directory(\n",
    "    train_dir,\n",
    "    target_size=(224, 224),\n",
    "    batch_size=16,\n",
    "    classes=selected_classes,\n",
    "    class_mode='categorical')\n",
    "\n",
    "validation_generator = validation_datagen.flow_from_directory(\n",
    "    validation_dir,\n",
    "    target_size=(224, 224),\n",
    "    batch_size=16,\n",
    "    classes=selected_classes,\n",
    "    class_mode='categorical')"
   ]
  },
  {
   "cell_type": "code",
   "execution_count": 5,
   "metadata": {},
   "outputs": [
    {
     "name": "stdout",
     "output_type": "stream",
     "text": [
      "Downloading data from https://storage.googleapis.com/tensorflow/keras-applications/densenet/densenet121_weights_tf_dim_ordering_tf_kernels_notop.h5\n",
      "29084464/29084464 [==============================] - 1s 0us/step\n"
     ]
    }
   ],
   "source": [
    "import tensorflow as tf\n",
    "from tensorflow.keras.applications import DenseNet121\n",
    "from tensorflow.keras.layers import Dense, GlobalAveragePooling2D\n",
    "from tensorflow.keras.models import Model\n",
    "\n",
    "# ResNet 모델 불러오기 모델 불러오기\n",
    "base_model = DenseNet121(weights='imagenet', include_top=False, input_shape=(224, 224, 3))\n",
    "x = base_model.output\n",
    "x = GlobalAveragePooling2D()(x)\n",
    "x = Dense(1024, activation='relu')(x)\n",
    "predictions = Dense(100, activation='softmax')(x)\n",
    "\n",
    "model = Model(inputs=base_model.input, outputs=predictions)\n",
    "\n",
    "# 모델 컴파일\n",
    "model.compile(optimizer='adam',\n",
    "              loss='categorical_crossentropy',\n",
    "              metrics=['accuracy'])"
   ]
  },
  {
   "cell_type": "code",
   "execution_count": 6,
   "metadata": {},
   "outputs": [
    {
     "name": "stdout",
     "output_type": "stream",
     "text": [
      "Epoch 1/50\n",
      "21/21 [==============================] - 18s 290ms/step - loss: 4.9645 - accuracy: 0.0329 - val_loss: 22.3860 - val_accuracy: 0.0089\n",
      "Epoch 2/50\n",
      "21/21 [==============================] - 4s 196ms/step - loss: 3.8490 - accuracy: 0.1407 - val_loss: 70.6353 - val_accuracy: 0.0179\n",
      "Epoch 3/50\n",
      "21/21 [==============================] - 4s 197ms/step - loss: 2.9766 - accuracy: 0.2395 - val_loss: 6.0843 - val_accuracy: 0.0714\n",
      "Epoch 4/50\n",
      "21/21 [==============================] - 4s 191ms/step - loss: 2.4666 - accuracy: 0.3413 - val_loss: 10.8023 - val_accuracy: 0.0268\n",
      "Epoch 5/50\n",
      "21/21 [==============================] - 4s 193ms/step - loss: 2.0012 - accuracy: 0.4760 - val_loss: 7.1888 - val_accuracy: 0.0446\n",
      "Epoch 6/50\n",
      "21/21 [==============================] - 4s 191ms/step - loss: 1.8282 - accuracy: 0.4940 - val_loss: 6.8135 - val_accuracy: 0.0982\n",
      "Epoch 7/50\n",
      "21/21 [==============================] - 4s 194ms/step - loss: 1.4445 - accuracy: 0.6108 - val_loss: 12.1327 - val_accuracy: 0.0536\n",
      "Epoch 8/50\n",
      "21/21 [==============================] - 4s 199ms/step - loss: 1.2426 - accuracy: 0.6437 - val_loss: 9.0548 - val_accuracy: 0.1250\n"
     ]
    }
   ],
   "source": [
    "from tensorflow.keras.callbacks import EarlyStopping\n",
    "\n",
    "# 조기 종료 콜백 설정\n",
    "early_stopping = EarlyStopping(monitor='val_loss', patience=5, restore_best_weights=True)\n",
    "\n",
    "# 모델 학습\n",
    "history = model.fit(\n",
    "    train_generator,\n",
    "    steps_per_epoch=train_generator.samples // train_generator.batch_size,\n",
    "    epochs=50,\n",
    "    validation_data=validation_generator,\n",
    "    validation_steps=validation_generator.samples // validation_generator.batch_size,\n",
    "    callbacks=[early_stopping]\n",
    ")"
   ]
  },
  {
   "cell_type": "code",
   "execution_count": 7,
   "metadata": {},
   "outputs": [
    {
     "data": {
      "image/png": "[encoded data removed]",
      "text/plain": [
       "<Figure size 640x480 with 1 Axes>"
      ]
     },
     "metadata": {},
     "output_type": "display_data"
    },
    {
     "data": {
      "image/png": "[encoded data removed]",
      "text/plain": [
       "<Figure size 640x480 with 1 Axes>"
      ]
     },
     "metadata": {},
     "output_type": "display_data"
    }
   ],
   "source": [
    "import matplotlib.pyplot as plt\n",
    "\n",
    "def drawAccuracyGraph(history):\n",
    "    acc = history.history['accuracy']\n",
    "    val_acc = history.history['val_accuracy']\n",
    "    loss = history.history['loss']\n",
    "    val_loss = history.history['val_loss']\n",
    "\n",
    "    epochs = range(1, len(acc) + 1)\n",
    "\n",
    "    plt.plot(epochs, acc, 'bo', label='Training acc')\n",
    "    plt.plot(epochs, val_acc, 'b', label='Validation acc')\n",
    "    plt.title('Training and validation accuracy')\n",
    "    plt.legend()\n",
    "\n",
    "    plt.figure()\n",
    "\n",
    "    plt.plot(epochs, loss, 'bo', label='Training loss')\n",
    "    plt.plot(epochs, val_loss, 'b', label='Validation loss')\n",
    "    plt.title('Training and validation loss')\n",
    "    plt.legend()\n",
    "\n",
    "    plt.show()\n",
    "\n",
    "drawAccuracyGraph(history)"
   ]
  },
  {
   "cell_type": "code",
   "execution_count": 8,
   "metadata": {},
   "outputs": [],
   "source": [
    "epochs = len(history.history['accuracy'])\n",
    "last_acc = history.history['accuracy'][-1]\n",
    "last_val_acc = history.history['val_accuracy'][-1]\n"
   ]
  },
  {
   "cell_type": "code",
   "execution_count": 9,
   "metadata": {},
   "outputs": [
    {
     "data": {
      "text/plain": [
       "'densenet121'"
      ]
     },
     "execution_count": 9,
     "metadata": {},
     "output_type": "execute_result"
    }
   ],
   "source": [
    "base_model.name"
   ]
  },
  {
   "cell_type": "code",
   "execution_count": 10,
   "metadata": {},
   "outputs": [],
   "source": [
    "epochs = len(history.history['accuracy'])\n",
    "last_acc = history.history['accuracy'][-1]\n",
    "last_val_acc = history.history['val_accuracy'][-1]\n",
    "\n",
    "log_text_path = \"test_result.md\"\n",
    "\n",
    "with open(log_text_path, \"a\") as f:\n",
    "    data = f\"\"\"# {'model_'+str(model_number)}\\n\n",
    "* 학습 데이터: {dataset_path}\n",
    "* 개체수: {len(selected_classes)}\n",
    "* 학습 모델: {base_model.name}\n",
    "* 데이터 분할 비율: {round(train_valid_rate*10)}:{round((1-train_valid_rate)*10)}\n",
    "* 배치 사이즈: {train_generator.batch_size}\n",
    "* 반복 횟수: {epochs}\n",
    "* 훈련 정확도: {last_acc}\n",
    "* 검증 정확도: {last_val_acc}\n",
    "    \"\"\"\n",
    "    f.write(data + \"\\n\")"
   ]
  }
 ],
 "metadata": {
  "kernelspec": {
   "display_name": "Test",
   "language": "python",
   "name": "python3"
  },
  "language_info": {
   "codemirror_mode": {
    "name": "ipython",
    "version": 3
   },
   "file_extension": ".py",
   "mimetype": "text/x-python",
   "name": "python",
   "nbconvert_exporter": "python",
   "pygments_lexer": "ipython3",
   "version": "3.9.19"
  }
 },
 "nbformat": 4,
 "nbformat_minor": 2
}

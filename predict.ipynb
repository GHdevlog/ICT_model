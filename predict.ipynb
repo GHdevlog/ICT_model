{
 "cells": [
  {
   "cell_type": "code",
   "execution_count": 4,
   "metadata": {},
   "outputs": [
    {
     "name": "stdout",
     "output_type": "stream",
     "text": [
      "1/1 [==============================] - 0s 234ms/step\n",
      "Predicted class for cropped_image/10/dog10 (1).jpg: dog11 (index: 3)\n"
     ]
    },
    {
     "data": {
      "text/plain": [
       "'dog11'"
      ]
     },
     "execution_count": 4,
     "metadata": {},
     "output_type": "execute_result"
    }
   ],
   "source": [
    "import numpy as np\n",
    "from tensorflow.keras.preprocessing import image\n",
    "from tensorflow.keras.applications.mobilenet import preprocess_input\n",
    "from tensorflow.keras.models import load_model\n",
    "\n",
    "def predict_image(processed_image_path, model_path, class_labels):\n",
    "    # 모델 로드\n",
    "    model = load_model(model_path)\n",
    "\n",
    "    # 전처리된 이미지 로드 및 예측 수행\n",
    "    if processed_image_path:\n",
    "        img = image.load_img(processed_image_path, target_size=(224, 224))\n",
    "        img_array = image.img_to_array(img)\n",
    "        img_array = np.expand_dims(img_array, axis=0)\n",
    "        img_array = preprocess_input(img_array)\n",
    "\n",
    "        # 예측 수행\n",
    "        predictions = model.predict(img_array)\n",
    "        predicted_class_idx = np.argmax(predictions, axis=1)[0]\n",
    "        predicted_class = class_labels[predicted_class_idx]\n",
    "        \n",
    "        print(f\"Predicted class for {processed_image_path}: {predicted_class} (index: {predicted_class_idx})\")\n",
    "        return predicted_class\n",
    "\n",
    "    return None\n",
    "\n",
    "# 전처리된 이미지 경로 및 모델 경로 설정\n",
    "processed_image_path = 'cropped_image/10/dog10 (1).jpg'\n",
    "model_path = 'modeling/my_model.h5'\n",
    "class_labels = ['dog0',\n",
    " 'dog1',\n",
    " 'dog10',\n",
    " 'dog11',\n",
    " 'dog2',\n",
    " 'dog3',\n",
    " 'dog4',\n",
    " 'dog5',\n",
    " 'dog6',\n",
    " 'dog7']\n",
    "# 이미지 예측 수행\n",
    "predict_image(processed_image_path, model_path, class_labels)\n",
    "\n"
   ]
  }
 ],
 "metadata": {
  "kernelspec": {
   "display_name": "ict",
   "language": "python",
   "name": "python3"
  },
  "language_info": {
   "codemirror_mode": {
    "name": "ipython",
    "version": 3
   },
   "file_extension": ".py",
   "mimetype": "text/x-python",
   "name": "python",
   "nbconvert_exporter": "python",
   "pygments_lexer": "ipython3",
   "version": "3.9.19"
  }
 },
 "nbformat": 4,
 "nbformat_minor": 2
}
